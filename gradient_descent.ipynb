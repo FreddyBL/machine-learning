{
 "cells": [
  {
   "cell_type": "code",
   "execution_count": null,
   "metadata": {},
   "outputs": [],
   "source": []
  },
  {
   "cell_type": "markdown",
   "metadata": {},
   "source": [
    "# Gradient Descent"
   ]
  },
  {
   "cell_type": "markdown",
   "metadata": {},
   "source": [
    "#### Example 1:\n",
    "\n",
    "Find one of the solutions to the equation $3^x +2^y +x^2 =3$"
   ]
  },
  {
   "cell_type": "markdown",
   "metadata": {},
   "source": [
    "Define input as ${f\\left(x,y\\right)=3}^x +2^y +x^2$ and expected output as $y = 3$\n",
    "\n",
    "Define cost function $C(x, y)$ as the mean-squared error (constant coefficient shouldn't matter)\n",
    "\n",
    "$C(x,y) = (f(x,y) - y)^2$\n",
    "\n",
    "$C(x,y) = {\\left(3^x +2^y +x^2 -3\\right)}^2$\n",
    "\n",
    "\n",
    "Pseudocode:\n",
    "\n",
    "Let $x, y$ be solutions to the equation and $\\alpha$ the learning rate.\n",
    "\n",
    "Repeat until convergence:\n",
    " - $x:=x-\\alpha \\frac{\\partial }{\\partial x}C\\left(x,y\\right)$\n",
    " - $y:=y-\\alpha \\frac{\\partial }{\\partial y}C\\left(x,y\\right)$"
   ]
  },
  {
   "cell_type": "code",
   "execution_count": 17,
   "metadata": {},
   "outputs": [],
   "source": [
    "\n",
    "import math\n",
    "o = 3\n",
    "f = lambda x, y: (3**x)+(2**y)+x**2\n",
    "c = lambda x, y: (f(x,y) - o) ** 2\n",
    "dx = lambda x, y: 2*(f(x,y) - o)*((3**x)*math.log(3) + 2*x)\n",
    "dy = lambda x, y: 2*(f(x,y) - o)*((2**y)*math.log(2))\n"
   ]
  },
  {
   "cell_type": "code",
   "execution_count": 42,
   "metadata": {},
   "outputs": [
    {
     "name": "stdout",
     "output_type": "stream",
     "text": [
      "Solution found: (-0.13752597375386835, 1.087108386567281)\n",
      "f(x,y) = 3.0031636399211785\n"
     ]
    }
   ],
   "source": [
    "alpha = 0.001 #learning rate\n",
    "iters = 1000\n",
    "x = 3\n",
    "y = 2\n",
    "\n",
    "costs = []\n",
    "for i in range(iters):\n",
    "    xt = x - alpha * dx(x,y)\n",
    "    yt = y - alpha * dy(x,y)\n",
    "    x = xt\n",
    "    y = yt\n",
    "    costs.append(c(x,y))\n",
    "\n",
    "\n",
    "print(f\"Solution found: ({x}, {y})\")\n",
    "print(f\"f(x,y) = {f(x,y)}\")"
   ]
  },
  {
   "cell_type": "markdown",
   "metadata": {},
   "source": [
    "#### Plotting of cost function value vs number of iterations\n"
   ]
  },
  {
   "cell_type": "code",
   "execution_count": 40,
   "metadata": {},
   "outputs": [
    {
     "data": {
      "text/plain": [
       "Text(0, 0.5, 'C(x,y)')"
      ]
     },
     "execution_count": 40,
     "metadata": {},
     "output_type": "execute_result"
    },
    {
     "data": {
      "image/png": "[encoded data removed]",
      "text/plain": [
       "<Figure size 432x288 with 1 Axes>"
      ]
     },
     "metadata": {
      "needs_background": "light"
     },
     "output_type": "display_data"
    }
   ],
   "source": [
    "import matplotlib.pyplot as plt\n",
    "import numpy as np\n",
    "\n",
    "x_axis = np.array(range(0, iters))\n",
    "plt.plot(x_axis, np.array(costs))\n",
    "plt.xlabel(\"# of iters\")\n",
    "plt.ylabel(\"C(x,y)\")"
   ]
  }
 ],
 "metadata": {
  "interpreter": {
   "hash": "bc01a6be3187ca126e7098f1988cde31ea24e9df67ea3dadfdc1d6bbfd24dd4e"
  },
  "kernelspec": {
   "display_name": "Python 3.9.6 64-bit ('ai_env': conda)",
   "language": "python",
   "name": "python3"
  },
  "language_info": {
   "codemirror_mode": {
    "name": "ipython",
    "version": 3
   },
   "file_extension": ".py",
   "mimetype": "text/x-python",
   "name": "python",
   "nbconvert_exporter": "python",
   "pygments_lexer": "ipython3",
   "version": "3.9.6"
  },
  "orig_nbformat": 4
 },
 "nbformat": 4,
 "nbformat_minor": 2
}

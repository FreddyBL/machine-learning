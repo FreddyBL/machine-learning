{
 "cells": [
  {
   "cell_type": "markdown",
   "metadata": {},
   "source": [
    "# Linear Regression\n",
    "\n",
    "## Definitions:\n",
    "\n",
    "$m$ = No of training samples\n",
    "\n",
    "$n$ = No of variables for each feature vector $x_k$\n",
    "\n",
    "Define $x_k =\\left\\lbrace x_{k,0} ,{\\;x}_{k,1} ,{\\;x}_{k,2} ,\\;\\ldotp \\ldotp \\ldotp \\;,{\\;x}_{k,n-1} \\right\\rbrace$ where $0\\le k\\le n-1$\n",
    "\n",
    "Define $y_k$ be the expected output for feature vector $x_k$\n",
    "\n",
    "Define $X$ to be the feature matrix:\n",
    "\n",
    "$\\left\\lbrack \\begin{array}{ccc}\n",
    "\\gets  & x_0  & \\to \\\\\n",
    "\\gets  & x_1  & \\to \\\\\n",
    "\\gets  & x_2  & \\to \\\\\n",
    "\\gets  & \\ldotp \\ldotp \\ldotp  & \\to \\\\\n",
    "\\gets  & x_{m-1}  & \\to \n",
    "\\end{array}\\right\\rbrack$\n",
    "\n",
    "\n",
    "Training sample: $(x_k, y_k)$\n",
    "\n",
    "\n",
    "\n"
   ]
  },
  {
   "cell_type": "code",
   "execution_count": 9,
   "metadata": {},
   "outputs": [],
   "source": [
    "import numpy as np\n",
    "from numpy.linalg import inv\n",
    "\n",
    "\n",
    "def linearRegression(X: np.matrix, y: np.matrix):\n",
    "    \"\"\"\n",
    "        Implements linear regression using the normal equation\n",
    "            - param np.matrix X: feature matrix\n",
    "            - param np.matrix y: expected output vector\n",
    "            - return: weights to fit the data\n",
    "   \"\"\"\n",
    "    m = np.shape(X)[0]\n",
    "    assert(np.shape(y) == (m, 1))\n",
    "    w = inv(X.transpose()*X)*X.transpose()*y\n",
    "    return w\n"
   ]
  },
  {
   "cell_type": "markdown",
   "metadata": {},
   "source": [
    "##### Test 1\n",
    "Testing a basic model, where the expected value is the value of each column added. Should output w = [1, 1, 1]"
   ]
  },
  {
   "cell_type": "code",
   "execution_count": 8,
   "metadata": {},
   "outputs": [
    {
     "name": "stdout",
     "output_type": "stream",
     "text": [
      "[[1.]\n",
      " [1.]\n",
      " [1.]]\n"
     ]
    }
   ],
   "source": [
    "\n",
    "X = np.matrix([\n",
    "    [1, 9, 5],\n",
    "    [1, 7, 4],\n",
    "    [1, 3, 9],\n",
    "    [1, 8, 10]\n",
    "    ])\n",
    "\n",
    "y = np.transpose(np.matrix([[15, 12, 13, 19]]))\n",
    "\n",
    "w = linearRegression(X, y)\n",
    "print(w)"
   ]
  },
  {
   "cell_type": "markdown",
   "metadata": {},
   "source": [
    "##### 2D model:"
   ]
  },
  {
   "cell_type": "code",
   "execution_count": 45,
   "metadata": {},
   "outputs": [
    {
     "name": "stdout",
     "output_type": "stream",
     "text": [
      "[[1. 1. 1. 1. 1. 1. 1. 1. 1. 1.]]\n"
     ]
    }
   ],
   "source": [
    "import random\n",
    "\n",
    "def randVector(total_points: int, max: float):\n",
    "    Y = []\n",
    "    for i in range(total_points):\n",
    "        y = random.uniform(0, max)\n",
    "        Y.append(y)\n",
    "    y = np.transpose(np.matrix(Y))\n",
    "    return y\n",
    "    \n",
    "     \n",
    "m = 10   \n",
    "X = np.matrix(range(1, m))\n",
    "\n",
    "print(np.ones(shape=(1, m)))\n",
    "        \n",
    "        \n"
   ]
  },
  {
   "cell_type": "code",
   "execution_count": null,
   "metadata": {},
   "outputs": [],
   "source": []
  }
 ],
 "metadata": {
  "interpreter": {
   "hash": "bc01a6be3187ca126e7098f1988cde31ea24e9df67ea3dadfdc1d6bbfd24dd4e"
  },
  "kernelspec": {
   "display_name": "Python 3.9.6 64-bit ('ai_env': conda)",
   "language": "python",
   "name": "python3"
  },
  "language_info": {
   "codemirror_mode": {
    "name": "ipython",
    "version": 3
   },
   "file_extension": ".py",
   "mimetype": "text/x-python",
   "name": "python",
   "nbconvert_exporter": "python",
   "pygments_lexer": "ipython3",
   "version": "3.9.6"
  },
  "orig_nbformat": 4
 },
 "nbformat": 4,
 "nbformat_minor": 2
}

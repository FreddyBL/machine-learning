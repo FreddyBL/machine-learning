{
 "cells": [
  {
   "cell_type": "markdown",
   "metadata": {},
   "source": [
    "# Linear Regression\n",
    "\n",
    "## Definitions:\n",
    "\n",
    "$m$ = No of training samples\n",
    "\n",
    "$n$ = No of variables for each feature vector $x_k$\n",
    "\n",
    "Define $x_k =\\left\\lbrace x_{k,0} ,{\\;x}_{k,1} ,{\\;x}_{k,2} ,\\;\\ldotp \\ldotp \\ldotp \\;,{\\;x}_{k,n-1} \\right\\rbrace$ where $0\\le k\\le n-1$\n",
    "\n",
    "Define $y_k$ be the expected output for feature vector $x_k$\n",
    "\n",
    "Define $X$ to be the feature matrix:\n",
    "\n",
    "$\\left\\lbrack \\begin{array}{ccc}\n",
    "\\gets  & x_0  & \\to \\\\\n",
    "\\gets  & x_1  & \\to \\\\\n",
    "\\gets  & x_2  & \\to \\\\\n",
    "\\gets  & \\ldotp \\ldotp \\ldotp  & \\to \\\\\n",
    "\\gets  & x_{m-1}  & \\to \n",
    "\\end{array}\\right\\rbrack$\n",
    "\n",
    "\n",
    "Training sample: $(x_k, y_k)$\n",
    "\n",
    "\n",
    "\n"
   ]
  },
  {
   "cell_type": "code",
   "execution_count": 71,
   "metadata": {},
   "outputs": [],
   "source": [
    "import numpy as np\n",
    "from numpy.linalg import inv\n",
    "\n",
    "\n",
    "def linearRegression(X: np.matrix, y: np.matrix):\n",
    "    \"\"\"\n",
    "        Implements linear regression using the normal equation\n",
    "            - param np.matrix X: feature matrix\n",
    "            - param np.matrix y: expected output vector\n",
    "            - return: weights to fit the data\n",
    "   \"\"\"\n",
    "    m = np.shape(X)[0]\n",
    "    assert(np.shape(y) == (m, 1))\n",
    "    w = inv(X.transpose()*X)*X.transpose()*y\n",
    "    return w\n"
   ]
  },
  {
   "cell_type": "markdown",
   "metadata": {},
   "source": [
    "##### Test 1\n",
    "Testing a basic model, where the expected value is the value of each column added. Should output w = [1, 1, 1]"
   ]
  },
  {
   "cell_type": "code",
   "execution_count": 8,
   "metadata": {},
   "outputs": [
    {
     "name": "stdout",
     "output_type": "stream",
     "text": [
      "[[1.]\n",
      " [1.]\n",
      " [1.]]\n"
     ]
    }
   ],
   "source": [
    "\n",
    "X = np.matrix([\n",
    "    [1, 9, 5],\n",
    "    [1, 7, 4],\n",
    "    [1, 3, 9],\n",
    "    [1, 8, 10]\n",
    "    ])\n",
    "\n",
    "y = np.transpose(np.matrix([[15, 12, 13, 19]]))\n",
    "\n",
    "w = linearRegression(X, y)\n",
    "print(w)"
   ]
  },
  {
   "cell_type": "markdown",
   "metadata": {},
   "source": [
    "##### Univariate linear regression"
   ]
  },
  {
   "cell_type": "markdown",
   "metadata": {},
   "source": [
    "Generate some random points and assemble feature matrix:"
   ]
  },
  {
   "cell_type": "code",
   "execution_count": 153,
   "metadata": {},
   "outputs": [
    {
     "name": "stdout",
     "output_type": "stream",
     "text": [
      "X:  [[1 0]\n",
      " [1 1]\n",
      " [1 2]\n",
      " [1 3]\n",
      " [1 4]\n",
      " [1 5]\n",
      " [1 6]\n",
      " [1 7]\n",
      " [1 8]\n",
      " [1 9]]\n",
      "y:  [[6.11752867]\n",
      " [0.25069788]\n",
      " [1.61692316]\n",
      " [3.61832345]\n",
      " [6.92649891]\n",
      " [3.83440291]\n",
      " [7.05868388]\n",
      " [4.89924261]\n",
      " [5.2873808 ]\n",
      " [7.6823031 ]]\n"
     ]
    }
   ],
   "source": [
    "\n",
    "m = 10   \n",
    "X = np.matrix(range(0, m))\n",
    "X = np.insert(X, 0, np.ones(shape=(1, m)), axis=0)\n",
    "X = X.transpose()\n",
    "y = randVector(m, 10.0)\n",
    "print(\"X: \", X)\n",
    "print(\"y: \",y)"
   ]
  },
  {
   "cell_type": "markdown",
   "metadata": {},
   "source": [
    "Perform linear regression and plot results:"
   ]
  },
  {
   "cell_type": "code",
   "execution_count": 156,
   "metadata": {},
   "outputs": [
    {
     "data": {
      "image/png": "[encoded data removed]",
      "text/plain": [
       "<Figure size 432x288 with 1 Axes>"
      ]
     },
     "metadata": {
      "needs_background": "light"
     },
     "output_type": "display_data"
    }
   ],
   "source": [
    "import matplotlib.pyplot as plt\n",
    "\n",
    "w = linearRegression(X, y)\n",
    "x_axis = np.array(range(0, m))\n",
    "\n",
    "line_params = np.array(w)\n",
    "b = line_params[0][0]\n",
    "slope = line_params[1][0]\n",
    "y_line = x_axis * slope + b\n",
    "y_axis = np.array(y)\n",
    "plt.scatter(x_axis, y_axis)\n",
    "plt.plot(x_axis, y_line, c=\"g\", label=\"linear fit\")\n",
    "plt.xlabel(\"x\")\n",
    "plt.ylabel(\"y\")\n",
    "plt.legend(loc='upper left')\n",
    "plt.show()\n"
   ]
  }
 ],
 "metadata": {
  "interpreter": {
   "hash": "bc01a6be3187ca126e7098f1988cde31ea24e9df67ea3dadfdc1d6bbfd24dd4e"
  },
  "kernelspec": {
   "display_name": "Python 3.9.6 64-bit ('ai_env': conda)",
   "language": "python",
   "name": "python3"
  },
  "language_info": {
   "codemirror_mode": {
    "name": "ipython",
    "version": 3
   },
   "file_extension": ".py",
   "mimetype": "text/x-python",
   "name": "python",
   "nbconvert_exporter": "python",
   "pygments_lexer": "ipython3",
   "version": "3.9.6"
  },
  "orig_nbformat": 4
 },
 "nbformat": 4,
 "nbformat_minor": 2
}

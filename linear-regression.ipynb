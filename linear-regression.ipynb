{
 "cells": [
  {
   "cell_type": "markdown",
   "metadata": {},
   "source": [
    "# Linear Regression\n",
    "\n",
    "## Definitions:\n",
    "\n",
    "$m$ = No of training samples\n",
    "\n",
    "$n$ = No of variables for each feature vector $x_k$\n",
    "\n",
    "Define $x_k =\\left\\lbrace x_{k,0} ,{\\;x}_{k,1} ,{\\;x}_{k,2} ,\\;\\ldotp \\ldotp \\ldotp \\;,{\\;x}_{k,n-1} \\right\\rbrace$ where $0\\le k\\le n-1$\n",
    "\n",
    "Define $y_k$ be the expected output for feature vector $x_k$\n",
    "\n",
    "Define $X$ to be the feature matrix:\n",
    "\n",
    "$\\left\\lbrack \\begin{array}{ccc}\n",
    "\\gets  & x_0  & \\to \\\\\n",
    "\\gets  & x_1  & \\to \\\\\n",
    "\\gets  & x_2  & \\to \\\\\n",
    "\\gets  & \\ldotp \\ldotp \\ldotp  & \\to \\\\\n",
    "\\gets  & x_{m-1}  & \\to \n",
    "\\end{array}\\right\\rbrack$\n",
    "\n",
    "\n",
    "Training sample: $(x_k, y_k)$\n",
    "\n",
    "\n",
    "\n"
   ]
  },
  {
   "cell_type": "code",
   "execution_count": 1,
   "metadata": {},
   "outputs": [
    {
     "name": "stdout",
     "output_type": "stream",
     "text": [
      "4\n"
     ]
    }
   ],
   "source": [
    "import numpy as np\n",
    "from numpy.linalg import inv\n",
    "\n",
    "X = np.matrix([\n",
    "    [1, 9, 5],\n",
    "    [1, 7, 4],\n",
    "    [14, 3, 9],\n",
    "    [1, 8, 10]\n",
    "    ])\n",
    "\n",
    "y = np.transpose(np.matrix([[15, 12, 26, 19]]))\n",
    "\n",
    "m = np.shape(X)[0]\n",
    "print(m)\n",
    "assert(np.shape(y) == (m, 1))\n",
    "\n",
    "w = inv(X.transpose()*X)*X.transpose()*y"
   ]
  },
  {
   "cell_type": "code",
   "execution_count": 10,
   "metadata": {},
   "outputs": [
    {
     "name": "stdout",
     "output_type": "stream",
     "text": [
      "[[15.40023319]\n",
      " [11.5577538 ]\n",
      " [26.00772917]\n",
      " [18.93380464]]\n"
     ]
    }
   ],
   "source": [
    "\n",
    "print(X*w)"
   ]
  },
  {
   "cell_type": "code",
   "execution_count": null,
   "metadata": {},
   "outputs": [],
   "source": []
  }
 ],
 "metadata": {
  "interpreter": {
   "hash": "bc01a6be3187ca126e7098f1988cde31ea24e9df67ea3dadfdc1d6bbfd24dd4e"
  },
  "kernelspec": {
   "display_name": "Python 3.9.6 64-bit ('ai_env': conda)",
   "language": "python",
   "name": "python3"
  },
  "language_info": {
   "codemirror_mode": {
    "name": "ipython",
    "version": 3
   },
   "file_extension": ".py",
   "mimetype": "text/x-python",
   "name": "python",
   "nbconvert_exporter": "python",
   "pygments_lexer": "ipython3",
   "version": "3.9.6"
  },
  "orig_nbformat": 4
 },
 "nbformat": 4,
 "nbformat_minor": 2
}
